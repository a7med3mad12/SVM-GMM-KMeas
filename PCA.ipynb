{
  "nbformat": 4,
  "nbformat_minor": 0,
  "metadata": {
    "colab": {
      "name": "ass2_2.ipynb",
      "provenance": [],
      "collapsed_sections": []
    },
    "kernelspec": {
      "name": "python3",
      "display_name": "Python 3"
    },
    "language_info": {
      "name": "python"
    }
  },
  "cells": [
    {
      "cell_type": "code",
      "metadata": {
        "id": "FLFk-ty4R7CD"
      },
      "source": [
        "import cv2\n",
        "from google.colab.patches import cv2_imshow\n",
        "import os \n",
        "os.chdir('/content/sample_data')"
      ],
      "execution_count": 4,
      "outputs": []
    },
    {
      "cell_type": "code",
      "metadata": {
        "colab": {
          "base_uri": "https://localhost:8080/"
        },
        "id": "PHkVpzKrWbJs",
        "outputId": "d1b2cda0-f2f8-4b72-d7bb-515c88b78674"
      },
      "source": [
        "import os \n",
        "from google.colab import drive\n",
        "drive.mount(\"/content/drive\")\n",
        "os.chdir(\"/content/drive/MyDrive\")"
      ],
      "execution_count": null,
      "outputs": [
        {
          "output_type": "stream",
          "text": [
            "Mounted at /content/drive\n"
          ],
          "name": "stdout"
        }
      ]
    },
    {
      "cell_type": "code",
      "metadata": {
        "id": "DIfWbBI9Wela"
      },
      "source": [
        "import zipfile\n",
        "#with zipfile.ZipFile(\"/content/drive/MyDrive/dsp/ass 2/Reduced MNIST Data.zip\",\"r\") as zip_ref:\n",
        "with zipfile.ZipFile(\"/content/Reduced MNIST Data.zip\",\"r\") as zip_ref:\n",
        "    #zip_ref.extractall(\"/content/drive/MyDrive/dsp/ass 2/data\")\n",
        "    zip_ref.extractall(\"/content/data\")"
      ],
      "execution_count": 6,
      "outputs": []
    },
    {
      "cell_type": "code",
      "metadata": {
        "id": "o7TDC-ciWnrC"
      },
      "source": [
        "#loading training data\n",
        "import cv2\n",
        "import os\n",
        "import numpy as np\n",
        "def collect_data(filename):\n",
        "  images = []\n",
        "  labels = []\n",
        "  #filename = '/content/drive/MyDrive/dsp/ass 2/data/Reduced MNIST Data/Reduced Trainging data'\n",
        "  for folder in np.sort(os.listdir(filename)):\n",
        "    for filee in os.listdir(os.path.join(filename,folder)):\n",
        "      img = cv2.imread(os.path.join(filename,folder,filee),0) \n",
        "      #print(os.path.join(filename,folder,filee))\n",
        "      if img is not None:\n",
        "        images.append(img)\n",
        "        labels.append(int(folder))\n",
        "  return images,labels"
      ],
      "execution_count": 8,
      "outputs": []
    },
    {
      "cell_type": "code",
      "metadata": {
        "id": "566yKpGUWpkV"
      },
      "source": [
        "#train_data,train_labels = collect_data('/content/drive/MyDrive/dsp/ass 2/data/Reduced MNIST Data/Reduced Trainging data')\n",
        "#test_data,test_labels = collect_data('/content/drive/MyDrive/dsp/ass 2/data/Reduced MNIST Data/Reduced Testing data')\n",
        "train_data,train_labels = collect_data('/content/data/Reduced MNIST Data/Reduced Trainging data')\n",
        "test_data,test_labels = collect_data('/content/data/Reduced MNIST Data/Reduced Testing data')"
      ],
      "execution_count": 9,
      "outputs": []
    },
    {
      "cell_type": "code",
      "metadata": {
        "id": "hBOn60GQWrHl"
      },
      "source": [
        "import numpy as np\n",
        "train_data = np.array(train_data)\n",
        "test_data = np.array(test_data)\n",
        "train_labels = np.array(train_labels).reshape(1,10000)\n",
        "test_labels = np.array(test_labels).reshape(1,2000)\n",
        "train_data = train_data.reshape(len(train_data),-1)\n",
        "test_data = test_data.reshape(len(test_data),-1)"
      ],
      "execution_count": 10,
      "outputs": []
    },
    {
      "cell_type": "code",
      "metadata": {
        "id": "EsEpQUw8WxEG"
      },
      "source": [
        "from sklearn.discriminant_analysis import LinearDiscriminantAnalysis as LDA"
      ],
      "execution_count": 11,
      "outputs": []
    },
    {
      "cell_type": "code",
      "metadata": {
        "id": "9dLg-0vZWxP4"
      },
      "source": [
        "lda = LDA(n_components = None)\n",
        "Lda_train_data = lda.fit_transform(train_data,train_labels.reshape(10000,))\n",
        "Lda_test_data = lda.transform(test_data)"
      ],
      "execution_count": 12,
      "outputs": []
    },
    {
      "cell_type": "code",
      "metadata": {
        "id": "zgm0cxtaqjTD"
      },
      "source": [
        "from sklearn.utils import shuffle\n",
        "x , y = shuffle(Lda_train_data,train_labels.reshape(10000,))"
      ],
      "execution_count": 13,
      "outputs": []
    },
    {
      "cell_type": "code",
      "metadata": {
        "id": "bC5LRRuacP07"
      },
      "source": [
        "var = np.cumsum(lda.explained_variance_ratio_)\n",
        "components = np.where(var>.95)"
      ],
      "execution_count": 14,
      "outputs": []
    },
    {
      "cell_type": "code",
      "metadata": {
        "colab": {
          "base_uri": "https://localhost:8080/"
        },
        "id": "CFwWqbXSdJJo",
        "outputId": "087e4d57-3f9f-469a-853e-e532eaa0e578"
      },
      "source": [
        "var"
      ],
      "execution_count": 15,
      "outputs": [
        {
          "output_type": "execute_result",
          "data": {
            "text/plain": [
              "array([0.24190531, 0.42070302, 0.57832198, 0.69427713, 0.79199785,\n",
              "       0.86769081, 0.92543214, 0.96548838, 1.        ])"
            ]
          },
          "metadata": {
            "tags": []
          },
          "execution_count": 15
        }
      ]
    },
    {
      "cell_type": "code",
      "metadata": {
        "id": "jzDi_fa7ctzT"
      },
      "source": [
        "lda = LDA(n_components = 6) #for 96% variation\n",
        "Lda_train_data = lda.fit_transform(train_data,train_labels.reshape(10000,))\n",
        "Lda_test_data = lda.transform(test_data)"
      ],
      "execution_count": 16,
      "outputs": []
    },
    {
      "cell_type": "code",
      "metadata": {
        "colab": {
          "base_uri": "https://localhost:8080/"
        },
        "id": "f5b-HUq2dkIW",
        "outputId": "1362bac3-071b-4b9e-9671-d66dad0c15a6"
      },
      "source": [
        "from sklearn.cluster import KMeans\n",
        "import time\n",
        "num_cluster_per_num = 1\n",
        "kmeans = KMeans(n_clusters=num_cluster_per_num*10, random_state=0,max_iter=300)\n",
        "time_before_fitting = time.time()\n",
        "kmeans.fit(Lda_train_data)\n",
        "time_after_fitting = time.time()\n",
        "print(\"Processing time is :\",time_after_fitting-time_before_fitting)\n",
        "time_before_test = time.time()\n",
        "Y_pred = kmeans.fit_predict(Lda_test_data)\n",
        "time_after_test = time.time()\n",
        "print(\"Processing time is :\",time_after_test-time_before_test)"
      ],
      "execution_count": 17,
      "outputs": [
        {
          "output_type": "stream",
          "text": [
            "Processing time is : 0.5208706855773926\n",
            "Processing time is : 0.1998608112335205\n"
          ],
          "name": "stdout"
        }
      ]
    },
    {
      "cell_type": "code",
      "metadata": {
        "id": "Du55YiRGdmtJ"
      },
      "source": [
        "def map_clast(y_pred,num_cluster):\n",
        "  mapped = []\n",
        "  for i in range(0,10):\n",
        "    mapped.append(np.bincount(y_pred[i*200:(i+1)*200]).argsort()[-num_cluster:])\n",
        "  return mapped"
      ],
      "execution_count": 18,
      "outputs": []
    },
    {
      "cell_type": "code",
      "metadata": {
        "id": "H-17aiFRdyoo"
      },
      "source": [
        "mapped_labels = map_clast(Y_pred,num_cluster_per_num)"
      ],
      "execution_count": 20,
      "outputs": []
    },
    {
      "cell_type": "code",
      "metadata": {
        "id": "LGPX67PBd0P1"
      },
      "source": [
        "new_outputs = []\n",
        "for j in range(0,10):\n",
        "  for i in range(j*200,(j+1)*200):\n",
        "    if np.isin(Y_pred[i],mapped_labels[j]):\n",
        "      new_outputs.append(j)\n",
        "    else: \n",
        "      new_outputs.append(200)\n",
        "new_outputs = np.array(new_outputs).reshape(1,2000)"
      ],
      "execution_count": 21,
      "outputs": []
    },
    {
      "cell_type": "code",
      "metadata": {
        "colab": {
          "base_uri": "https://localhost:8080/"
        },
        "id": "U1J7ppccd2_x",
        "outputId": "bc4447cd-7fea-45e1-b45a-82a21cc632fb"
      },
      "source": [
        "from sklearn.metrics import accuracy_score\n",
        "accuracy_score(new_outputs[0],test_labels[0])"
      ],
      "execution_count": 22,
      "outputs": [
        {
          "output_type": "execute_result",
          "data": {
            "text/plain": [
              "0.831"
            ]
          },
          "metadata": {
            "tags": []
          },
          "execution_count": 22
        }
      ]
    },
    {
      "cell_type": "code",
      "metadata": {
        "colab": {
          "base_uri": "https://localhost:8080/"
        },
        "id": "8fb23KMXkYH-",
        "outputId": "293ec3ed-1c15-45f8-d4c4-bd4dda7b8df1"
      },
      "source": [
        "from sklearn.pipeline import Pipeline\n",
        "from sklearn.linear_model import LogisticRegression\n",
        "pipeline = Pipeline([\n",
        "(\"kmeans\", KMeans(n_clusters=num_cluster_per_num*10)),\n",
        "(\"log_reg\", LogisticRegression(max_iter=10000)),\n",
        "])\n",
        "time_before_fitting = time.time()\n",
        "pipeline.fit(Lda_train_data, train_labels.reshape(10000,))\n",
        "time_after_fitting = time.time()\n",
        "print(\"Processing time is :\",time_after_fitting-time_before_fitting)\n",
        "time_before_test = time.time()\n",
        "out_puts = pipeline.predict(Lda_test_data)\n",
        "time_after_test = time.time()\n",
        "print(\"Processing time is :\",time_after_test-time_before_test)"
      ],
      "execution_count": 23,
      "outputs": [
        {
          "output_type": "stream",
          "text": [
            "Processing time is : 29.02907109260559\n",
            "Processing time is : 0.0027077198028564453\n"
          ],
          "name": "stdout"
        }
      ]
    },
    {
      "cell_type": "code",
      "metadata": {
        "colab": {
          "base_uri": "https://localhost:8080/"
        },
        "id": "kBgJvWl_kuGV",
        "outputId": "8e7f987f-5a83-481e-e3e6-83ae7bb98c29"
      },
      "source": [
        "print('accuracy_score = ',accuracy_score(out_puts,test_labels[0]))"
      ],
      "execution_count": 24,
      "outputs": [
        {
          "output_type": "stream",
          "text": [
            "accuracy_score =  0.8575\n"
          ],
          "name": "stdout"
        }
      ]
    },
    {
      "cell_type": "code",
      "metadata": {
        "colab": {
          "base_uri": "https://localhost:8080/",
          "height": 445
        },
        "id": "QBaBXDu3HAFV",
        "outputId": "2998d145-e1f5-4a55-e81a-d12e36c6606b"
      },
      "source": [
        "from sklearn.metrics import confusion_matrix\n",
        "import matplotlib.pyplot as plt\n",
        "import seaborn as sn\n",
        "import pandas as pd\n",
        "df_cm = pd.DataFrame(confusion_matrix(test_labels[0],out_puts))\n",
        "plt.figure(figsize = (10,7))\n",
        "sn.heatmap(df_cm, annot=True,cmap='Blues', fmt='g')"
      ],
      "execution_count": 26,
      "outputs": [
        {
          "output_type": "execute_result",
          "data": {
            "text/plain": [
              "<matplotlib.axes._subplots.AxesSubplot at 0x7f5affa03710>"
            ]
          },
          "metadata": {
            "tags": []
          },
          "execution_count": 26
        },
        {
          "output_type": "display_data",
          "data": {
            "image/png": "[encoded data removed]",
            "text/plain": [
              "<Figure size 720x504 with 2 Axes>"
            ]
          },
          "metadata": {
            "tags": [],
            "needs_background": "light"
          }
        }
      ]
    },
    {
      "cell_type": "code",
      "metadata": {
        "colab": {
          "base_uri": "https://localhost:8080/"
        },
        "id": "IfE1l3lNd8WW",
        "outputId": "cf6c018f-a465-4933-e646-50c1b31e7dad"
      },
      "source": [
        "num_cluster_per_num = 4\n",
        "kmeans = KMeans(n_clusters=num_cluster_per_num*10, random_state=0,max_iter=300)\n",
        "time_before_fitting = time.time()\n",
        "kmeans.fit(Lda_train_data)\n",
        "time_after_fitting = time.time()\n",
        "print(\"Processing time is :\",time_after_fitting-time_before_fitting)\n",
        "time_before_test = time.time()\n",
        "Y_pred = kmeans.fit_predict(Lda_test_data)\n",
        "time_after_test = time.time()\n",
        "print(\"Processing time is :\",time_after_test-time_before_test)"
      ],
      "execution_count": 33,
      "outputs": [
        {
          "output_type": "stream",
          "text": [
            "Processing time is : 4.281201601028442\n",
            "Processing time is : 0.6277322769165039\n"
          ],
          "name": "stdout"
        }
      ]
    },
    {
      "cell_type": "code",
      "metadata": {
        "id": "5ETQAvHdeAmS"
      },
      "source": [
        "mapped_labels = map_clast(Y_pred,num_cluster_per_num)"
      ],
      "execution_count": 34,
      "outputs": []
    },
    {
      "cell_type": "code",
      "metadata": {
        "id": "N8uUXlRXeGbM"
      },
      "source": [
        "new_outputs = []\n",
        "for j in range(0,10):\n",
        "  for i in range(j*200,(j+1)*200):\n",
        "    if np.isin(Y_pred[i],mapped_labels[j]):\n",
        "      new_outputs.append(j)\n",
        "    else: \n",
        "      new_outputs.append(200)\n",
        "new_outputs = np.array(new_outputs).reshape(1,2000)"
      ],
      "execution_count": 35,
      "outputs": []
    },
    {
      "cell_type": "code",
      "metadata": {
        "colab": {
          "base_uri": "https://localhost:8080/"
        },
        "id": "jAQ8QhlJXjwM",
        "outputId": "36cc0d77-6b79-4285-d60b-54368fd911d9"
      },
      "source": [
        "accuracy_score(new_outputs[0],test_labels[0])"
      ],
      "execution_count": 36,
      "outputs": [
        {
          "output_type": "execute_result",
          "data": {
            "text/plain": [
              "0.846"
            ]
          },
          "metadata": {
            "tags": []
          },
          "execution_count": 36
        }
      ]
    },
    {
      "cell_type": "code",
      "metadata": {
        "colab": {
          "base_uri": "https://localhost:8080/"
        },
        "id": "f7NmP0IgXaik",
        "outputId": "e7ad1c51-79ea-46e2-ea7b-439b49086892"
      },
      "source": [
        "from sklearn.pipeline import Pipeline\n",
        "from sklearn.linear_model import LogisticRegression\n",
        "pipeline = Pipeline([\n",
        "(\"kmeans\", KMeans(n_clusters=num_cluster_per_num*10)),\n",
        "(\"log_reg\", LogisticRegression(max_iter=10000)),\n",
        "])\n",
        "time_before_fitting = time.time()\n",
        "pipeline.fit(Lda_train_data, train_labels.reshape(10000,))\n",
        "time_after_fitting = time.time()\n",
        "print(\"Processing time is :\",time_after_fitting-time_before_fitting)\n",
        "time_before_test = time.time()\n",
        "out_puts = pipeline.predict(Lda_test_data)\n",
        "time_after_test = time.time()\n",
        "print(\"Processing time is :\",time_after_test-time_before_test)"
      ],
      "execution_count": 30,
      "outputs": [
        {
          "output_type": "stream",
          "text": [
            "Processing time is : 73.71498847007751\n",
            "Processing time is : 0.005097866058349609\n"
          ],
          "name": "stdout"
        }
      ]
    },
    {
      "cell_type": "code",
      "metadata": {
        "colab": {
          "base_uri": "https://localhost:8080/"
        },
        "id": "bgjc6PUzXail",
        "outputId": "4ccea148-df0a-4d47-c445-a6a4a15bbe07"
      },
      "source": [
        "print('accuracy_score = ',accuracy_score(out_puts,test_labels[0]))"
      ],
      "execution_count": 31,
      "outputs": [
        {
          "output_type": "stream",
          "text": [
            "accuracy_score =  0.872\n"
          ],
          "name": "stdout"
        }
      ]
    },
    {
      "cell_type": "code",
      "metadata": {
        "colab": {
          "base_uri": "https://localhost:8080/",
          "height": 445
        },
        "id": "SZEsgam_Xaim",
        "outputId": "0d6a8f94-e2c5-4925-a32e-eabe283765f1"
      },
      "source": [
        "from sklearn.metrics import confusion_matrix\n",
        "import matplotlib.pyplot as plt\n",
        "import seaborn as sn\n",
        "import pandas as pd\n",
        "df_cm = pd.DataFrame(confusion_matrix(test_labels[0],out_puts))\n",
        "plt.figure(figsize = (10,7))\n",
        "sn.heatmap(df_cm, annot=True,cmap='Blues', fmt='g')"
      ],
      "execution_count": 32,
      "outputs": [
        {
          "output_type": "execute_result",
          "data": {
            "text/plain": [
              "<matplotlib.axes._subplots.AxesSubplot at 0x7f5b00283cd0>"
            ]
          },
          "metadata": {
            "tags": []
          },
          "execution_count": 32
        },
        {
          "output_type": "display_data",
          "data": {
            "image/png": "[encoded data removed]",
            "text/plain": [
              "<Figure size 720x504 with 2 Axes>"
            ]
          },
          "metadata": {
            "tags": [],
            "needs_background": "light"
          }
        }
      ]
    },
    {
      "cell_type": "code",
      "metadata": {
        "colab": {
          "base_uri": "https://localhost:8080/"
        },
        "id": "n0CXR51_eJ6x",
        "outputId": "de13b13b-e8e8-4512-9786-a8d03d3d1c70"
      },
      "source": [
        "num_cluster_per_num = 16\n",
        "kmeans = KMeans(n_clusters=num_cluster_per_num*10, random_state=0,max_iter=300)\n",
        "time_before_fitting = time.time()\n",
        "kmeans.fit(Lda_train_data)\n",
        "time_after_fitting = time.time()\n",
        "print(\"Processing time is :\",time_after_fitting-time_before_fitting)\n",
        "time_before_test = time.time()\n",
        "Y_pred = kmeans.fit_predict(Lda_test_data)\n",
        "time_after_test = time.time()\n",
        "print(\"Processing time is :\",time_after_test-time_before_test)"
      ],
      "execution_count": 37,
      "outputs": [
        {
          "output_type": "stream",
          "text": [
            "Processing time is : 10.638042211532593\n",
            "Processing time is : 1.7518465518951416\n"
          ],
          "name": "stdout"
        }
      ]
    },
    {
      "cell_type": "code",
      "metadata": {
        "id": "DiE65m_eeNJC"
      },
      "source": [
        "mapped_labels = map_clast(Y_pred,num_cluster_per_num)"
      ],
      "execution_count": 38,
      "outputs": []
    },
    {
      "cell_type": "code",
      "metadata": {
        "id": "FfgyVimZelju"
      },
      "source": [
        "new_outputs = []\n",
        "for j in range(0,10):\n",
        "  for i in range(j*200,(j+1)*200):\n",
        "    if np.isin(Y_pred[i],mapped_labels[j]):\n",
        "      new_outputs.append(j)\n",
        "    else: \n",
        "      new_outputs.append(200)\n",
        "new_outputs = np.array(new_outputs).reshape(1,2000)"
      ],
      "execution_count": 39,
      "outputs": []
    },
    {
      "cell_type": "code",
      "metadata": {
        "colab": {
          "base_uri": "https://localhost:8080/"
        },
        "id": "kLUP9Fleelsc",
        "outputId": "a15b9929-98e6-4864-e84e-fa1626de9268"
      },
      "source": [
        "accuracy_score(new_outputs[0],test_labels[0])"
      ],
      "execution_count": 40,
      "outputs": [
        {
          "output_type": "execute_result",
          "data": {
            "text/plain": [
              "0.8765"
            ]
          },
          "metadata": {
            "tags": []
          },
          "execution_count": 40
        }
      ]
    },
    {
      "cell_type": "code",
      "metadata": {
        "colab": {
          "base_uri": "https://localhost:8080/"
        },
        "id": "hCrgUWgCYFXg",
        "outputId": "0c59a36e-a646-4029-84fc-24240ea56889"
      },
      "source": [
        "from sklearn.pipeline import Pipeline\n",
        "from sklearn.linear_model import LogisticRegression\n",
        "pipeline = Pipeline([\n",
        "(\"kmeans\", KMeans(n_clusters=num_cluster_per_num*10)),\n",
        "(\"log_reg\", LogisticRegression(max_iter=10000)),\n",
        "])\n",
        "time_before_fitting = time.time()\n",
        "pipeline.fit(Lda_train_data, train_labels.reshape(10000,))\n",
        "time_after_fitting = time.time()\n",
        "print(\"Processing time is :\",time_after_fitting-time_before_fitting)\n",
        "time_before_test = time.time()\n",
        "out_puts = pipeline.predict(Lda_test_data)\n",
        "time_after_test = time.time()\n",
        "print(\"Processing time is :\",time_after_test-time_before_test)"
      ],
      "execution_count": 41,
      "outputs": [
        {
          "output_type": "stream",
          "text": [
            "Processing time is : 85.90160202980042\n",
            "Processing time is : 0.007535219192504883\n"
          ],
          "name": "stdout"
        }
      ]
    },
    {
      "cell_type": "code",
      "metadata": {
        "colab": {
          "base_uri": "https://localhost:8080/"
        },
        "id": "OuaErUlPYFXu",
        "outputId": "a85f9d8a-4d4b-4ffb-eb96-18262a37c7cc"
      },
      "source": [
        "print('accuracy_score = ',accuracy_score(out_puts,test_labels[0]))"
      ],
      "execution_count": 42,
      "outputs": [
        {
          "output_type": "stream",
          "text": [
            "accuracy_score =  0.8745\n"
          ],
          "name": "stdout"
        }
      ]
    },
    {
      "cell_type": "code",
      "metadata": {
        "colab": {
          "base_uri": "https://localhost:8080/",
          "height": 445
        },
        "id": "tqVk7zGzYFXv",
        "outputId": "cc271e41-9fec-4877-8fb6-1eea87e70547"
      },
      "source": [
        "from sklearn.metrics import confusion_matrix\n",
        "import matplotlib.pyplot as plt\n",
        "import seaborn as sn\n",
        "import pandas as pd\n",
        "df_cm = pd.DataFrame(confusion_matrix(test_labels[0],out_puts))\n",
        "plt.figure(figsize = (10,7))\n",
        "sn.heatmap(df_cm, annot=True,cmap='Blues', fmt='g')"
      ],
      "execution_count": 43,
      "outputs": [
        {
          "output_type": "execute_result",
          "data": {
            "text/plain": [
              "<matplotlib.axes._subplots.AxesSubplot at 0x7f5aff235cd0>"
            ]
          },
          "metadata": {
            "tags": []
          },
          "execution_count": 43
        },
        {
          "output_type": "display_data",
          "data": {
            "image/png": "[encoded data removed]",
            "text/plain": [
              "<Figure size 720x504 with 2 Axes>"
            ]
          },
          "metadata": {
            "tags": [],
            "needs_background": "light"
          }
        }
      ]
    },
    {
      "cell_type": "code",
      "metadata": {
        "colab": {
          "base_uri": "https://localhost:8080/"
        },
        "id": "MpLUIaEeenLQ",
        "outputId": "d159e4f9-ba5c-4d77-dc52-8b9a246471a7"
      },
      "source": [
        "from sklearn.mixture import GaussianMixture as GMM \n",
        "import time\n",
        "num_cluster_per_num = 1\n",
        "gmm = GMM(n_components=num_cluster_per_num*10) #random_state=0,max_iter=300)\n",
        "time_before_fitting = time.time()\n",
        "gmm.fit(Lda_train_data)\n",
        "time_after_fitting = time.time()\n",
        "print(\"Processing time is :\",time_after_fitting-time_before_fitting)\n",
        "time_before_test = time.time()\n",
        "Y_pred = gmm.predict(Lda_test_data)\n",
        "time_after_test = time.time()\n",
        "print(\"Processing time is :\",time_after_test-time_before_test)"
      ],
      "execution_count": 44,
      "outputs": [
        {
          "output_type": "stream",
          "text": [
            "Processing time is : 0.5784261226654053\n",
            "Processing time is : 0.0027740001678466797\n"
          ],
          "name": "stdout"
        }
      ]
    },
    {
      "cell_type": "code",
      "metadata": {
        "id": "3Y6KuScPfECF"
      },
      "source": [
        "mapped_labels = map_clast(Y_pred,num_cluster_per_num)"
      ],
      "execution_count": 45,
      "outputs": []
    },
    {
      "cell_type": "code",
      "metadata": {
        "id": "Ma2DFq6BfH7s"
      },
      "source": [
        "new_outputs = []\n",
        "for j in range(0,10):\n",
        "  for i in range(j*200,(j+1)*200):\n",
        "    if np.isin(Y_pred[i],mapped_labels[j]):\n",
        "      new_outputs.append(j)\n",
        "    else: \n",
        "      new_outputs.append(200)\n",
        "new_outputs = np.array(new_outputs).reshape(1,2000)"
      ],
      "execution_count": 46,
      "outputs": []
    },
    {
      "cell_type": "code",
      "metadata": {
        "colab": {
          "base_uri": "https://localhost:8080/"
        },
        "id": "q7MGLakzfJ7A",
        "outputId": "1ee47563-cfd8-4099-cd4b-2762945a9553"
      },
      "source": [
        "accuracy_score(new_outputs[0],test_labels[0])"
      ],
      "execution_count": 47,
      "outputs": [
        {
          "output_type": "execute_result",
          "data": {
            "text/plain": [
              "0.8015"
            ]
          },
          "metadata": {
            "tags": []
          },
          "execution_count": 47
        }
      ]
    },
    {
      "cell_type": "code",
      "metadata": {
        "colab": {
          "base_uri": "https://localhost:8080/"
        },
        "id": "EUKty-miQCEP",
        "outputId": "777ac15e-33c4-4011-91d4-c1bd18c50355"
      },
      "source": [
        "num_cluster_per_num = 4\n",
        "gmm = GMM(n_components=num_cluster_per_num*10) # random_state=0,max_iter=300)\n",
        "time_before_fitting = time.time()\n",
        "gmm.fit(Lda_train_data)\n",
        "time_after_fitting = time.time()\n",
        "print(\"Processing time is :\",time_after_fitting-time_before_fitting)\n",
        "time_before_test = time.time()\n",
        "Y_pred = gmm.predict(Lda_test_data)\n",
        "time_after_test = time.time()\n",
        "print(\"Processing time is :\",time_after_test-time_before_test)"
      ],
      "execution_count": 48,
      "outputs": [
        {
          "output_type": "stream",
          "text": [
            "Processing time is : 2.9577159881591797\n",
            "Processing time is : 0.009790420532226562\n"
          ],
          "name": "stdout"
        }
      ]
    },
    {
      "cell_type": "code",
      "metadata": {
        "id": "GTLfKtcDSBO-"
      },
      "source": [
        "mapped_labels = map_clast(Y_pred,num_cluster_per_num)"
      ],
      "execution_count": 49,
      "outputs": []
    },
    {
      "cell_type": "code",
      "metadata": {
        "id": "uDz-IDhiSCln"
      },
      "source": [
        "new_outputs = []\n",
        "for j in range(0,10):\n",
        "  for i in range(j*200,(j+1)*200):\n",
        "    if np.isin(Y_pred[i],mapped_labels[j]):\n",
        "      new_outputs.append(j)\n",
        "    else: \n",
        "      new_outputs.append(200)\n",
        "new_outputs = np.array(new_outputs).reshape(1,2000)"
      ],
      "execution_count": 50,
      "outputs": []
    },
    {
      "cell_type": "code",
      "metadata": {
        "colab": {
          "base_uri": "https://localhost:8080/"
        },
        "id": "V3DG49J9SE0v",
        "outputId": "f11969ca-46b6-4e08-e355-fe8f040c56da"
      },
      "source": [
        "accuracy_score(new_outputs[0],test_labels[0])"
      ],
      "execution_count": 51,
      "outputs": [
        {
          "output_type": "execute_result",
          "data": {
            "text/plain": [
              "0.8315"
            ]
          },
          "metadata": {
            "tags": []
          },
          "execution_count": 51
        }
      ]
    },
    {
      "cell_type": "code",
      "metadata": {
        "colab": {
          "base_uri": "https://localhost:8080/"
        },
        "id": "w3a2ToxcSF3p",
        "outputId": "5b8fdec2-88ed-4b61-8a02-2848c2cb7b99"
      },
      "source": [
        "num_cluster_per_num = 16\n",
        "gmm = GMM(n_components=num_cluster_per_num*10) #random_state=0,max_iter=300)\n",
        "time_before_fitting = time.time()\n",
        "gmm.fit(Lda_train_data)\n",
        "time_after_fitting = time.time()\n",
        "print(\"Processing time is :\",time_after_fitting-time_before_fitting)\n",
        "time_before_test = time.time()\n",
        "Y_pred = gmm.predict(Lda_test_data)\n",
        "time_after_test = time.time()\n",
        "print(\"Processing time is :\",time_after_test-time_before_test)"
      ],
      "execution_count": 52,
      "outputs": [
        {
          "output_type": "stream",
          "text": [
            "Processing time is : 31.04239296913147\n",
            "Processing time is : 0.03845953941345215\n"
          ],
          "name": "stdout"
        }
      ]
    },
    {
      "cell_type": "code",
      "metadata": {
        "id": "s9BCTt0cSNJz"
      },
      "source": [
        "mapped_labels = map_clast(Y_pred,num_cluster_per_num)"
      ],
      "execution_count": 53,
      "outputs": []
    },
    {
      "cell_type": "code",
      "metadata": {
        "id": "EqjFz_R2SPkp"
      },
      "source": [
        "new_outputs = []\n",
        "for j in range(0,10):\n",
        "  for i in range(j*200,(j+1)*200):\n",
        "    if np.isin(Y_pred[i],mapped_labels[j]):\n",
        "      new_outputs.append(j)\n",
        "    else: \n",
        "      new_outputs.append(np.random.choice(range(0,10),1)[0])\n",
        "new_outputs = np.array(new_outputs).reshape(1,2000)"
      ],
      "execution_count": 54,
      "outputs": []
    },
    {
      "cell_type": "code",
      "metadata": {
        "colab": {
          "base_uri": "https://localhost:8080/"
        },
        "id": "ilLYS0njSQ6S",
        "outputId": "5efce4ba-ac4a-4eee-ca45-c5a0482e52e1"
      },
      "source": [
        "accuracy_score(new_outputs[0],test_labels[0])"
      ],
      "execution_count": 55,
      "outputs": [
        {
          "output_type": "execute_result",
          "data": {
            "text/plain": [
              "0.881"
            ]
          },
          "metadata": {
            "tags": []
          },
          "execution_count": 55
        }
      ]
    },
    {
      "cell_type": "code",
      "metadata": {
        "colab": {
          "base_uri": "https://localhost:8080/",
          "height": 445
        },
        "id": "x2VQmJqhYyZv",
        "outputId": "cd6d41e2-833e-4101-f017-b3c97e0b34ee"
      },
      "source": [
        "df_cm = pd.DataFrame(confusion_matrix(test_labels[0],out_puts))\n",
        "plt.figure(figsize = (10,7))\n",
        "sn.heatmap(df_cm, annot=True,cmap='Blues', fmt='g')"
      ],
      "execution_count": 56,
      "outputs": [
        {
          "output_type": "execute_result",
          "data": {
            "text/plain": [
              "<matplotlib.axes._subplots.AxesSubplot at 0x7f5afef81650>"
            ]
          },
          "metadata": {
            "tags": []
          },
          "execution_count": 56
        },
        {
          "output_type": "display_data",
          "data": {
            "image/png": "[encoded data removed]",
            "text/plain": [
              "<Figure size 720x504 with 2 Axes>"
            ]
          },
          "metadata": {
            "tags": [],
            "needs_background": "light"
          }
        }
      ]
    },
    {
      "cell_type": "code",
      "metadata": {
        "colab": {
          "base_uri": "https://localhost:8080/"
        },
        "id": "xerGn__HSSFB",
        "outputId": "cd6e99fb-190e-4889-865e-e229a63e9477"
      },
      "source": [
        "from sklearn.svm import SVC\n",
        "from sklearn.utils import shuffle\n",
        "clf = SVC(C=.1,kernel = 'linear')\n",
        "x , y = shuffle(Lda_train_data,train_labels.reshape(10000,))\n",
        "time_before_fitting = time.time()\n",
        "clf.fit(x, y.reshape(10000,))\n",
        "time_after_fitting = time.time()\n",
        "print(\"Processing time is :\",time_after_fitting-time_before_fitting)\n",
        "time_before_test = time.time()\n",
        "Y_pred = clf.predict(Lda_test_data)\n",
        "time_after_test = time.time()\n",
        "print(\"Processing time is :\",time_after_test-time_before_test)"
      ],
      "execution_count": 57,
      "outputs": [
        {
          "output_type": "stream",
          "text": [
            "Processing time is : 0.33713746070861816\n",
            "Processing time is : 0.12744140625\n"
          ],
          "name": "stdout"
        }
      ]
    },
    {
      "cell_type": "code",
      "metadata": {
        "colab": {
          "base_uri": "https://localhost:8080/"
        },
        "id": "i77w8kufCJIu",
        "outputId": "2b8a2716-1b40-424e-ec62-1a3ea28f1396"
      },
      "source": [
        "accuracy_score(Y_pred,test_labels[0])"
      ],
      "execution_count": 58,
      "outputs": [
        {
          "output_type": "execute_result",
          "data": {
            "text/plain": [
              "0.862"
            ]
          },
          "metadata": {
            "tags": []
          },
          "execution_count": 58
        }
      ]
    },
    {
      "cell_type": "code",
      "metadata": {
        "colab": {
          "base_uri": "https://localhost:8080/"
        },
        "id": "kzO-eKprVaLI",
        "outputId": "523fbd03-3af0-4e1d-ec91-fb53b284a0f0"
      },
      "source": [
        "clf = SVC(kernel = 'rbf',degree=3)\n",
        "\n",
        "time_before_fitting = time.time()\n",
        "clf.fit(Lda_train_data, train_labels.reshape(10000,))\n",
        "time_after_fitting = time.time()\n",
        "print(\"Processing time is :\",time_after_fitting-time_before_fitting)\n",
        "time_before_test = time.time()\n",
        "Y_pred = clf.predict(Lda_test_data)\n",
        "time_after_test = time.time()\n",
        "print(\"Processing time is :\",time_after_test-time_before_test)"
      ],
      "execution_count": 59,
      "outputs": [
        {
          "output_type": "stream",
          "text": [
            "Processing time is : 0.6017787456512451\n",
            "Processing time is : 0.2572593688964844\n"
          ],
          "name": "stdout"
        }
      ]
    },
    {
      "cell_type": "code",
      "metadata": {
        "colab": {
          "base_uri": "https://localhost:8080/"
        },
        "id": "jcHYrHL2VcC0",
        "outputId": "5f3d27fe-8472-4f1f-bd74-c5618b19be13"
      },
      "source": [
        "accuracy_score(Y_pred,test_labels[0])"
      ],
      "execution_count": 60,
      "outputs": [
        {
          "output_type": "execute_result",
          "data": {
            "text/plain": [
              "0.877"
            ]
          },
          "metadata": {
            "tags": []
          },
          "execution_count": 60
        }
      ]
    },
    {
      "cell_type": "code",
      "metadata": {
        "colab": {
          "base_uri": "https://localhost:8080/",
          "height": 445
        },
        "id": "BdWWtmHBY-rk",
        "outputId": "d18cf501-68a4-486d-94e4-0dfb28764632"
      },
      "source": [
        "df_cm = pd.DataFrame(confusion_matrix(test_labels[0],Y_pred))\n",
        "plt.figure(figsize = (10,7))\n",
        "sn.heatmap(df_cm, annot=True,cmap='Blues', fmt='g')"
      ],
      "execution_count": 61,
      "outputs": [
        {
          "output_type": "execute_result",
          "data": {
            "text/plain": [
              "<matplotlib.axes._subplots.AxesSubplot at 0x7f5afef81990>"
            ]
          },
          "metadata": {
            "tags": []
          },
          "execution_count": 61
        },
        {
          "output_type": "display_data",
          "data": {
            "image/png": "[encoded data removed]",
            "text/plain": [
              "<Figure size 720x504 with 2 Axes>"
            ]
          },
          "metadata": {
            "tags": [],
            "needs_background": "light"
          }
        }
      ]
    },
    {
      "cell_type": "code",
      "metadata": {
        "id": "LXIlL-zLZBi0"
      },
      "source": [
        ""
      ],
      "execution_count": null,
      "outputs": []
    }
  ]
}