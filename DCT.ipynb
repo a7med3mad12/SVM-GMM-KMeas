{
  "nbformat": 4,
  "nbformat_minor": 0,
  "metadata": {
    "accelerator": "TPU",
    "colab": {
      "name": "ass2.ipynb",
      "provenance": [],
      "collapsed_sections": []
    },
    "kernelspec": {
      "display_name": "Python 3",
      "name": "python3"
    },
    "language_info": {
      "name": "python"
    }
  },
  "cells": [
    {
      "cell_type": "code",
      "metadata": {
        "id": "aJP74fqXjUwP"
      },
      "source": [
        "import cv2\n",
        "from google.colab.patches import cv2_imshow\n",
        "import os \n",
        "os.chdir('/content/sample_data')"
      ],
      "execution_count": 1,
      "outputs": []
    },
    {
      "cell_type": "code",
      "metadata": {
        "id": "w-lFpCMMkh0Y"
      },
      "source": [
        "import pandas as pd"
      ],
      "execution_count": 2,
      "outputs": []
    },
    {
      "cell_type": "code",
      "metadata": {
        "id": "5FQvjjq6k25y",
        "colab": {
          "base_uri": "https://localhost:8080/"
        },
        "outputId": "c5260797-88ed-4152-9ff1-0b1aa08b2044"
      },
      "source": [
        "import os \n",
        "from google.colab import drive\n",
        "drive.mount(\"/content/drive\")\n",
        "os.chdir(\"/content/drive/MyDrive\")"
      ],
      "execution_count": 3,
      "outputs": [
        {
          "output_type": "stream",
          "text": [
            "Drive already mounted at /content/drive; to attempt to forcibly remount, call drive.mount(\"/content/drive\", force_remount=True).\n"
          ],
          "name": "stdout"
        }
      ]
    },
    {
      "cell_type": "code",
      "metadata": {
        "id": "LAx6ezRGk6Do"
      },
      "source": [
        "import zipfile\n",
        "#with zipfile.ZipFile(\"/content/drive/MyDrive/dsp/ass 2/Reduced MNIST Data.zip\",\"r\") as zip_ref:\n",
        "with zipfile.ZipFile(\"/content/Reduced MNIST Data.zip\",\"r\") as zip_ref:\n",
        "    #zip_ref.extractall(\"/content/drive/MyDrive/dsp/ass 2/data\")\n",
        "    zip_ref.extractall(\"/content/data\")"
      ],
      "execution_count": 7,
      "outputs": []
    },
    {
      "cell_type": "code",
      "metadata": {
        "id": "hssQz-pagXy8"
      },
      "source": [
        "img = cv2.imread('/content/drive/MyDrive/dsp/ass 2/data/Reduced MNIST Data/Reduced Testing data/0/781.jpg',0)"
      ],
      "execution_count": 19,
      "outputs": []
    },
    {
      "cell_type": "code",
      "metadata": {
        "id": "3vuns3ZqmGiO"
      },
      "source": [
        "#loading training data\n",
        "import cv2\n",
        "import os\n",
        "import numpy as np\n",
        "def collect_data(filename):\n",
        "  images = []\n",
        "  labels = []\n",
        "  #filename = '/content/drive/MyDrive/dsp/ass 2/data/Reduced MNIST Data/Reduced Trainging data'\n",
        "  for folder in np.sort(os.listdir(filename)):\n",
        "    for filee in os.listdir(os.path.join(filename,folder)):\n",
        "      img = cv2.imread(os.path.join(filename,folder,filee),0) \n",
        "      #print(os.path.join(filename,folder,filee))\n",
        "      if img is not None:\n",
        "        images.append(img)\n",
        "        labels.append(int(folder))\n",
        "  return images,labels"
      ],
      "execution_count": 6,
      "outputs": []
    },
    {
      "cell_type": "code",
      "metadata": {
        "id": "nBJJIJHdFUsE"
      },
      "source": [
        "#train_data,train_labels = collect_data('/content/drive/MyDrive/dsp/ass 2/data/Reduced MNIST Data/Reduced Trainging data')\n",
        "#test_data,test_labels = collect_data('/content/drive/MyDrive/dsp/ass 2/data/Reduced MNIST Data/Reduced Testing data')\n",
        "train_data,train_labels = collect_data('/content/data/Reduced MNIST Data/Reduced Trainging data')\n",
        "test_data,test_labels = collect_data('/content/data/Reduced MNIST Data/Reduced Testing data')"
      ],
      "execution_count": 7,
      "outputs": []
    },
    {
      "cell_type": "code",
      "metadata": {
        "id": "lT7lJSDQpYmX"
      },
      "source": [
        "train_data = np.array(train_data)\n",
        "test_data = np.array(test_data)\n",
        "train_labels = np.array(train_labels).reshape(1,10000)\n",
        "test_labels = np.array(test_labels).reshape(1,2000)"
      ],
      "execution_count": 8,
      "outputs": []
    },
    {
      "cell_type": "code",
      "metadata": {
        "id": "EJ3tGgrr6qia"
      },
      "source": [
        "def zigzag(input):\n",
        "    #initializing the variables\n",
        "    #----------------------------------\n",
        "    h = 0\n",
        "    v = 0\n",
        "\n",
        "    vmin = 0\n",
        "    hmin = 0\n",
        "\n",
        "    vmax = input.shape[0]\n",
        "    hmax = input.shape[1]\n",
        "    \n",
        "    #print(vmax ,hmax )\n",
        "\n",
        "    i = 0\n",
        "\n",
        "    output = np.zeros(( vmax * hmax))\n",
        "    #----------------------------------\n",
        "\n",
        "    while ((v < vmax) and (h < hmax)):\n",
        "    \t\n",
        "        if ((h + v) % 2) == 0:                 # going up\n",
        "            \n",
        "            if (v == vmin):\n",
        "            \t#print(1)\n",
        "                output[i] = input[v, h]        # if we got to the first line\n",
        "\n",
        "                if (h == hmax):\n",
        "                    v = v + 1\n",
        "                else:\n",
        "                    h = h + 1                        \n",
        "\n",
        "                i = i + 1\n",
        "\n",
        "            elif ((h == hmax -1 ) and (v < vmax)):   # if we got to the last column\n",
        "            \t#print(2)\n",
        "            \toutput[i] = input[v, h] \n",
        "            \tv = v + 1\n",
        "            \ti = i + 1\n",
        "\n",
        "            elif ((v > vmin) and (h < hmax -1 )):    # all other cases\n",
        "            \t#print(3)\n",
        "            \toutput[i] = input[v, h] \n",
        "            \tv = v - 1\n",
        "            \th = h + 1\n",
        "            \ti = i + 1\n",
        "\n",
        "        \n",
        "        else:                                    # going down\n",
        "\n",
        "        \tif ((v == vmax -1) and (h <= hmax -1)):       # if we got to the last line\n",
        "        \t\t#print(4)\n",
        "        \t\toutput[i] = input[v, h] \n",
        "        \t\th = h + 1\n",
        "        \t\ti = i + 1\n",
        "        \n",
        "        \telif (h == hmin):                  # if we got to the first column\n",
        "        \t\t#print(5)\n",
        "        \t\toutput[i] = input[v, h] \n",
        "\n",
        "        \t\tif (v == vmax -1):\n",
        "        \t\t\th = h + 1\n",
        "        \t\telse:\n",
        "        \t\t\tv = v + 1\n",
        "\n",
        "        \t\ti = i + 1\n",
        "\n",
        "        \telif ((v < vmax -1) and (h > hmin)):     # all other cases\n",
        "        \t\t#print(6)\n",
        "        \t\toutput[i] = input[v, h] \n",
        "        \t\tv = v + 1\n",
        "        \t\th = h - 1\n",
        "        \t\ti = i + 1\n",
        "\n",
        "\n",
        "\n",
        "\n",
        "        if ((v == vmax-1) and (h == hmax-1)):          # bottom right element\n",
        "        \t#print(7)        \t\n",
        "        \toutput[i] = input[v, h] \n",
        "        \tbreak\n",
        "\n",
        "    #print ('v:',v,', h:',h,', i:',i)\n",
        "    return output"
      ],
      "execution_count": 9,
      "outputs": []
    },
    {
      "cell_type": "code",
      "metadata": {
        "id": "eyxeukRB2VZe"
      },
      "source": [
        "from scipy.fftpack import dct\n",
        "def do_dct(images):\n",
        "  images_dct = []\n",
        "  for i in range(images.shape[0]):\n",
        "    img = dct(dct(images[i], norm='ortho' ,axis=0),norm='ortho' ,axis=1)\n",
        "    img = zigzag(img)\n",
        "    images_dct.append(img[0:180])\n",
        "  return(images_dct)"
      ],
      "execution_count": 10,
      "outputs": []
    },
    {
      "cell_type": "code",
      "metadata": {
        "id": "87KKe6KA3_Pg"
      },
      "source": [
        "train_dct = do_dct(train_data)\n",
        "test_dct = do_dct(test_data)\n",
        "train_dct = np.array(train_dct)\n",
        "test_dct = np.array(test_dct)"
      ],
      "execution_count": 11,
      "outputs": []
    },
    {
      "cell_type": "markdown",
      "metadata": {
        "id": "E8j0twI1DhPq"
      },
      "source": [
        "# KMEANS with 1 cluster per class\n"
      ]
    },
    {
      "cell_type": "code",
      "metadata": {
        "colab": {
          "base_uri": "https://localhost:8080/"
        },
        "id": "qMLhmNctABnr",
        "outputId": "82ae1ecb-e2f0-46a7-83a2-ad71839f4763"
      },
      "source": [
        "from sklearn.cluster import KMeans\n",
        "import time\n",
        "num_cluster_per_num = 1\n",
        "kmeans = KMeans(n_clusters=num_cluster_per_num*10, random_state=0,max_iter=300)\n",
        "time_before_fitting = time.time()\n",
        "kmeans.fit(train_dct)\n",
        "time_after_fitting = time.time()\n",
        "print(\"Processing time is :\",time_after_fitting-time_before_fitting)\n",
        "time_before_test = time.time()\n",
        "Y_pred = kmeans.fit_predict(test_dct)\n",
        "time_after_test = time.time()\n",
        "print(\"Processing time is :\",time_after_test-time_before_test)"
      ],
      "execution_count": 27,
      "outputs": [
        {
          "output_type": "stream",
          "text": [
            "Processing time is : 5.074188709259033\n",
            "Processing time is : 0.7437334060668945\n"
          ],
          "name": "stdout"
        }
      ]
    },
    {
      "cell_type": "code",
      "metadata": {
        "id": "z358DsjLIbOO"
      },
      "source": [
        "def map_clast(y_pred,num_cluster):\n",
        "  mapped = []\n",
        "  for i in range(0,10):\n",
        "    mapped.append(np.bincount(y_pred[i*200:(i+1)*200]).argsort()[-num_cluster:])\n",
        "  return mapped"
      ],
      "execution_count": 28,
      "outputs": []
    },
    {
      "cell_type": "code",
      "metadata": {
        "id": "D3XSJXIIJYsY"
      },
      "source": [
        "mapped_labels = map_clast(Y_pred,num_cluster_per_num)"
      ],
      "execution_count": 29,
      "outputs": []
    },
    {
      "cell_type": "code",
      "metadata": {
        "id": "wrTimIgVcrhQ",
        "colab": {
          "base_uri": "https://localhost:8080/",
          "height": 52
        },
        "outputId": "a06de270-f33e-4a93-b593-6c2713686ec6"
      },
      "source": [
        "\"\"\"def map_predict(y_pred,mapped):\n",
        "  mapped = []\n",
        "  for i in range(y_pred.shape[0]):\n",
        "    for j in range(len(mapped_labels)):\n",
        "      if bool(np.isin(y_pred[i],mapped_labels[j])):\n",
        "        mapped.append(j)\n",
        "        break;\n",
        "  return mapped\n",
        "predicted_lables = map_predict(Y_pred,mapped_labels)\"\"\""
      ],
      "execution_count": 24,
      "outputs": [
        {
          "output_type": "execute_result",
          "data": {
            "application/vnd.google.colaboratory.intrinsic+json": {
              "type": "string"
            },
            "text/plain": [
              "'def map_predict(y_pred,mapped):\\n  mapped = []\\n  for i in range(y_pred.shape[0]):\\n    for j in range(len(mapped_labels)):\\n      if bool(np.isin(y_pred[i],mapped_labels[j])):\\n        mapped.append(j)\\n        break;\\n  return mapped\\npredicted_lables = map_predict(Y_pred,mapped_labels)'"
            ]
          },
          "metadata": {
            "tags": []
          },
          "execution_count": 24
        }
      ]
    },
    {
      "cell_type": "code",
      "metadata": {
        "id": "bg4aBBIwpSF3",
        "colab": {
          "base_uri": "https://localhost:8080/",
          "height": 35
        },
        "outputId": "be877f02-409b-46ff-c0ca-e210db9e1d27"
      },
      "source": [
        "\"\"\"new_labels = np.zeros(2000)\n",
        "for i in range(0,10):\n",
        "  new_labels[i*200:(i+1)*200] = mapped_labels[i][0]\"\"\""
      ],
      "execution_count": 25,
      "outputs": [
        {
          "output_type": "execute_result",
          "data": {
            "application/vnd.google.colaboratory.intrinsic+json": {
              "type": "string"
            },
            "text/plain": [
              "'new_labels = np.zeros(2000)\\nfor i in range(0,10):\\n  new_labels[i*200:(i+1)*200] = mapped_labels[i][0]'"
            ]
          },
          "metadata": {
            "tags": []
          },
          "execution_count": 25
        }
      ]
    },
    {
      "cell_type": "code",
      "metadata": {
        "id": "hIxUBgmxrov1"
      },
      "source": [
        "new_outputs = []\n",
        "for j in range(0,10):\n",
        "  for i in range(j*200,(j+1)*200):\n",
        "    if np.isin(Y_pred[i],mapped_labels[j]):\n",
        "      new_outputs.append(j)\n",
        "    else: \n",
        "      new_outputs.append(200)\n",
        "new_outputs = np.array(new_outputs).reshape(1,2000)"
      ],
      "execution_count": 30,
      "outputs": []
    },
    {
      "cell_type": "code",
      "metadata": {
        "colab": {
          "base_uri": "https://localhost:8080/"
        },
        "id": "voBdbQq2oaJX",
        "outputId": "c19878d8-a4fa-42e9-8982-257a2ac78b6f"
      },
      "source": [
        "from sklearn.metrics import accuracy_score\n",
        "accuracy_score(new_outputs[0],test_labels[0])"
      ],
      "execution_count": 31,
      "outputs": [
        {
          "output_type": "execute_result",
          "data": {
            "text/plain": [
              "0.7185"
            ]
          },
          "metadata": {
            "tags": []
          },
          "execution_count": 31
        }
      ]
    },
    {
      "cell_type": "code",
      "metadata": {
        "colab": {
          "base_uri": "https://localhost:8080/"
        },
        "id": "8fb23KMXkYH-",
        "outputId": "57c30ab7-261f-4832-ef0a-aca3a553d6a9"
      },
      "source": [
        "from sklearn.pipeline import Pipeline\n",
        "from sklearn.linear_model import LogisticRegression\n",
        "pipeline = Pipeline([\n",
        "(\"kmeans\", KMeans(n_clusters=10)),\n",
        "(\"log_reg\", LogisticRegression(max_iter=10000)),\n",
        "])\n",
        "time_before_fitting = time.time()\n",
        "pipeline.fit(train_dct, train_labels.reshape(10000,))\n",
        "time_after_fitting = time.time()\n",
        "print(\"Processing time is :\",time_after_fitting-time_before_fitting)\n",
        "time_before_test = time.time()\n",
        "out_puts = pipeline.predict(test_dct)\n",
        "time_after_test = time.time()\n",
        "print(\"Processing time is :\",time_after_test-time_before_test)"
      ],
      "execution_count": 66,
      "outputs": [
        {
          "output_type": "stream",
          "text": [
            "Processing time is : 15.893531560897827\n",
            "Processing time is : 0.004044294357299805\n"
          ],
          "name": "stdout"
        }
      ]
    },
    {
      "cell_type": "code",
      "metadata": {
        "colab": {
          "base_uri": "https://localhost:8080/"
        },
        "id": "kBgJvWl_kuGV",
        "outputId": "ce245f26-e1f2-4cb3-e99d-8f174fd41ff0"
      },
      "source": [
        "print('accuracy_score = ',accuracy_score(out_puts,test_labels[0]))"
      ],
      "execution_count": 67,
      "outputs": [
        {
          "output_type": "stream",
          "text": [
            "accuracy_score =  0.8295\n"
          ],
          "name": "stdout"
        }
      ]
    },
    {
      "cell_type": "code",
      "metadata": {
        "colab": {
          "base_uri": "https://localhost:8080/",
          "height": 445
        },
        "id": "QBaBXDu3HAFV",
        "outputId": "ac1a58ee-db7b-4c6b-f0d8-d6a6970db340"
      },
      "source": [
        "from sklearn.metrics import confusion_matrix\n",
        "import matplotlib.pyplot as plt\n",
        "import seaborn as sn\n",
        "df_cm = pd.DataFrame(confusion_matrix(test_labels[0],out_puts))\n",
        "plt.figure(figsize = (10,7))\n",
        "sn.heatmap(df_cm, annot=True,cmap='Blues', fmt='g')"
      ],
      "execution_count": 68,
      "outputs": [
        {
          "output_type": "execute_result",
          "data": {
            "text/plain": [
              "<matplotlib.axes._subplots.AxesSubplot at 0x7f383d66ac50>"
            ]
          },
          "metadata": {
            "tags": []
          },
          "execution_count": 68
        },
        {
          "output_type": "display_data",
          "data": {
            "image/png": "[encoded data removed]",
            "text/plain": [
              "<Figure size 720x504 with 2 Axes>"
            ]
          },
          "metadata": {
            "tags": [],
            "needs_background": "light"
          }
        }
      ]
    },
    {
      "cell_type": "markdown",
      "metadata": {
        "id": "GvGBUVhDxQQt"
      },
      "source": [
        "KMEANS with 4 cluster per class"
      ]
    },
    {
      "cell_type": "code",
      "metadata": {
        "colab": {
          "base_uri": "https://localhost:8080/"
        },
        "id": "p04pzbWrwlw1",
        "outputId": "2b0f1653-9402-4585-92ec-f39eb228dc5f"
      },
      "source": [
        "from sklearn.cluster import KMeans\n",
        "import time\n",
        "num_cluster_per_num = 4\n",
        "kmeans = KMeans(n_clusters=num_cluster_per_num*10, random_state=0,max_iter=300)\n",
        "time_before_fitting = time.time()\n",
        "kmeans.fit(train_dct)\n",
        "time_after_fitting = time.time()\n",
        "print(\"Processing time is :\",time_after_fitting-time_before_fitting)\n",
        "time_before_test = time.time()\n",
        "Y_pred = kmeans.fit_predict(test_dct)\n",
        "time_after_test = time.time()\n",
        "print(\"Processing time is :\",time_after_test-time_before_test)"
      ],
      "execution_count": 69,
      "outputs": [
        {
          "output_type": "stream",
          "text": [
            "Processing time is : 11.544849634170532\n",
            "Processing time is : 1.7368009090423584\n"
          ],
          "name": "stdout"
        }
      ]
    },
    {
      "cell_type": "code",
      "metadata": {
        "id": "ImnJ6nnoxZys"
      },
      "source": [
        "mapped_labels = map_clast(Y_pred,num_cluster_per_num)"
      ],
      "execution_count": 70,
      "outputs": []
    },
    {
      "cell_type": "code",
      "metadata": {
        "id": "KAgJT7snxbDF"
      },
      "source": [
        "new_outputs = []\n",
        "for j in range(0,10):\n",
        "  for i in range(j*200,(j+1)*200):\n",
        "    if np.isin(Y_pred[i],mapped_labels[j]):\n",
        "      new_outputs.append(j)\n",
        "    else: \n",
        "      new_outputs.append(200)\n",
        "new_outputs = np.array(new_outputs).reshape(1,2000)"
      ],
      "execution_count": 71,
      "outputs": []
    },
    {
      "cell_type": "code",
      "metadata": {
        "colab": {
          "base_uri": "https://localhost:8080/"
        },
        "id": "U38reFUlxlIL",
        "outputId": "4238217a-fa59-4b97-933e-0d249e9ce91e"
      },
      "source": [
        "from sklearn.metrics import accuracy_score\n",
        "accuracy_score(new_outputs[0],test_labels[0])"
      ],
      "execution_count": 72,
      "outputs": [
        {
          "output_type": "execute_result",
          "data": {
            "text/plain": [
              "0.8465"
            ]
          },
          "metadata": {
            "tags": []
          },
          "execution_count": 72
        }
      ]
    },
    {
      "cell_type": "code",
      "metadata": {
        "colab": {
          "base_uri": "https://localhost:8080/"
        },
        "id": "jbRYe5C-JKBp",
        "outputId": "0f9ebed2-cff7-4e96-ebcc-d44056b7b416"
      },
      "source": [
        "from sklearn.pipeline import Pipeline\n",
        "from sklearn.linear_model import LogisticRegression\n",
        "pipeline = Pipeline([\n",
        "(\"kmeans\", KMeans(n_clusters=40)),\n",
        "(\"log_reg\", LogisticRegression(max_iter=10000)),\n",
        "])\n",
        "time_before_fitting = time.time()\n",
        "pipeline.fit(train_dct, train_labels.reshape(10000,))\n",
        "time_after_fitting = time.time()\n",
        "print(\"Processing time is :\",time_after_fitting-time_before_fitting)\n",
        "time_before_test = time.time()\n",
        "out_puts = pipeline.predict(test_dct)\n",
        "time_after_test = time.time()\n",
        "print(\"Processing time is :\",time_before_test-time_before_test)"
      ],
      "execution_count": 73,
      "outputs": [
        {
          "output_type": "stream",
          "text": [
            "Processing time is : 124.03902769088745\n",
            "Processing time is : 0.0\n"
          ],
          "name": "stdout"
        }
      ]
    },
    {
      "cell_type": "code",
      "metadata": {
        "colab": {
          "base_uri": "https://localhost:8080/"
        },
        "id": "PvyYStgMJKBq",
        "outputId": "142590d4-50cc-45c3-bd68-7d93ac7e60de"
      },
      "source": [
        "print('accuracy_score = ',accuracy_score(out_puts,test_labels[0]))"
      ],
      "execution_count": 74,
      "outputs": [
        {
          "output_type": "stream",
          "text": [
            "accuracy_score =  0.9375\n"
          ],
          "name": "stdout"
        }
      ]
    },
    {
      "cell_type": "code",
      "metadata": {
        "colab": {
          "base_uri": "https://localhost:8080/",
          "height": 445
        },
        "id": "tJSDbxh0JKBr",
        "outputId": "071fcf4a-fa4b-4a69-936d-f264a2a8998a"
      },
      "source": [
        "from sklearn.metrics import confusion_matrix\n",
        "import matplotlib.pyplot as plt\n",
        "import seaborn as sn\n",
        "df_cm = pd.DataFrame(confusion_matrix(test_labels[0],out_puts))\n",
        "plt.figure(figsize = (10,7))\n",
        "sn.heatmap(df_cm, annot=True,cmap='Blues', fmt='g')"
      ],
      "execution_count": 75,
      "outputs": [
        {
          "output_type": "execute_result",
          "data": {
            "text/plain": [
              "<matplotlib.axes._subplots.AxesSubplot at 0x7f383daab810>"
            ]
          },
          "metadata": {
            "tags": []
          },
          "execution_count": 75
        },
        {
          "output_type": "display_data",
          "data": {
            "image/png": "[encoded data removed]",
            "text/plain": [
              "<Figure size 720x504 with 2 Axes>"
            ]
          },
          "metadata": {
            "tags": [],
            "needs_background": "light"
          }
        }
      ]
    },
    {
      "cell_type": "markdown",
      "metadata": {
        "id": "izvDIvylxuVk"
      },
      "source": [
        "KMEANS with 16 cluster per class"
      ]
    },
    {
      "cell_type": "code",
      "metadata": {
        "colab": {
          "base_uri": "https://localhost:8080/"
        },
        "id": "_blyqYyvxo1s",
        "outputId": "ea87f1a6-ff96-4b4f-b4c0-b2619b2e9594"
      },
      "source": [
        "num_cluster_per_num = 16\n",
        "kmeans = KMeans(n_clusters=num_cluster_per_num*10, random_state=0,max_iter=300)\n",
        "time_before_fitting = time.time()\n",
        "kmeans.fit(train_dct)\n",
        "time_after_fitting = time.time()\n",
        "print(\"Processing time is :\",time_after_fitting-time_before_fitting)\n",
        "time_before_test = time.time()\n",
        "Y_pred = kmeans.fit_predict(test_dct)\n",
        "time_after_test = time.time()\n",
        "print(\"Processing time is :\",time_after_test-time_before_test)"
      ],
      "execution_count": 76,
      "outputs": [
        {
          "output_type": "stream",
          "text": [
            "Processing time is : 26.66353988647461\n",
            "Processing time is : 4.374177694320679\n"
          ],
          "name": "stdout"
        }
      ]
    },
    {
      "cell_type": "code",
      "metadata": {
        "id": "GhjTTioUx0oa"
      },
      "source": [
        "mapped_labels = map_clast(Y_pred,num_cluster_per_num)"
      ],
      "execution_count": 77,
      "outputs": []
    },
    {
      "cell_type": "code",
      "metadata": {
        "id": "kF5DeV2rx-Pe"
      },
      "source": [
        "new_outputs = []\n",
        "for j in range(0,10):\n",
        "  for i in range(j*200,(j+1)*200):\n",
        "    if np.isin(Y_pred[i],mapped_labels[j]):\n",
        "      new_outputs.append(j)\n",
        "    else: \n",
        "      new_outputs.append(200)\n",
        "new_outputs = np.array(new_outputs).reshape(1,2000)"
      ],
      "execution_count": 78,
      "outputs": []
    },
    {
      "cell_type": "code",
      "metadata": {
        "colab": {
          "base_uri": "https://localhost:8080/"
        },
        "id": "nVv4fRBgx-hN",
        "outputId": "709fe218-930f-4e26-f76b-61c02b67fe8b"
      },
      "source": [
        "accuracy_score(new_outputs[0],test_labels[0])"
      ],
      "execution_count": 79,
      "outputs": [
        {
          "output_type": "execute_result",
          "data": {
            "text/plain": [
              "0.9225"
            ]
          },
          "metadata": {
            "tags": []
          },
          "execution_count": 79
        }
      ]
    },
    {
      "cell_type": "code",
      "metadata": {
        "colab": {
          "base_uri": "https://localhost:8080/"
        },
        "id": "txDUlCg_Jc32",
        "outputId": "316a3bc1-331d-4202-f804-db9014ff542e"
      },
      "source": [
        "from sklearn.pipeline import Pipeline\n",
        "from sklearn.linear_model import LogisticRegression\n",
        "pipeline = Pipeline([\n",
        "(\"kmeans\", KMeans(n_clusters=160)),\n",
        "(\"log_reg\", LogisticRegression(max_iter=10000)),\n",
        "])\n",
        "time_before_fitting = time.time()\n",
        "pipeline.fit(train_dct, train_labels.reshape(10000,))\n",
        "time_after_fitting = time.time()\n",
        "print(\"Processing time is :\",time_after_fitting-time_before_fitting)\n",
        "time_before_test = time.time()\n",
        "out_puts = pipeline.predict(test_dct)\n",
        "time_after_test = time.time()\n",
        "print(\"Processing time is :\",time_after_test-time_before_test)"
      ],
      "execution_count": 80,
      "outputs": [
        {
          "output_type": "stream",
          "text": [
            "Processing time is : 248.31310081481934\n",
            "Processing time is : 0.011961221694946289\n"
          ],
          "name": "stdout"
        },
        {
          "output_type": "stream",
          "text": [
            "/usr/local/lib/python3.7/dist-packages/sklearn/linear_model/_logistic.py:940: ConvergenceWarning: lbfgs failed to converge (status=1):\n",
            "STOP: TOTAL NO. of ITERATIONS REACHED LIMIT.\n",
            "\n",
            "Increase the number of iterations (max_iter) or scale the data as shown in:\n",
            "    https://scikit-learn.org/stable/modules/preprocessing.html\n",
            "Please also refer to the documentation for alternative solver options:\n",
            "    https://scikit-learn.org/stable/modules/linear_model.html#logistic-regression\n",
            "  extra_warning_msg=_LOGISTIC_SOLVER_CONVERGENCE_MSG)\n"
          ],
          "name": "stderr"
        }
      ]
    },
    {
      "cell_type": "code",
      "metadata": {
        "colab": {
          "base_uri": "https://localhost:8080/"
        },
        "id": "Vhb3_oA_Jc33",
        "outputId": "5009986b-4723-46c6-ae0e-f1f2d639899a"
      },
      "source": [
        "print('accuracy_score = ',accuracy_score(out_puts,test_labels[0]))"
      ],
      "execution_count": 81,
      "outputs": [
        {
          "output_type": "stream",
          "text": [
            "accuracy_score =  0.951\n"
          ],
          "name": "stdout"
        }
      ]
    },
    {
      "cell_type": "code",
      "metadata": {
        "colab": {
          "base_uri": "https://localhost:8080/",
          "height": 445
        },
        "id": "td0K9TXRJc33",
        "outputId": "4f2de88c-9f9f-44bb-b269-c4d5867fe871"
      },
      "source": [
        "from sklearn.metrics import confusion_matrix\n",
        "import matplotlib.pyplot as plt\n",
        "import seaborn as sn\n",
        "df_cm = pd.DataFrame(confusion_matrix(test_labels[0],out_puts))\n",
        "plt.figure(figsize = (10,7))\n",
        "sn.heatmap(df_cm, annot=True,cmap='Blues', fmt='g')"
      ],
      "execution_count": 82,
      "outputs": [
        {
          "output_type": "execute_result",
          "data": {
            "text/plain": [
              "<matplotlib.axes._subplots.AxesSubplot at 0x7f383d12e550>"
            ]
          },
          "metadata": {
            "tags": []
          },
          "execution_count": 82
        },
        {
          "output_type": "display_data",
          "data": {
            "image/png": "[encoded data removed]",
            "text/plain": [
              "<Figure size 720x504 with 2 Axes>"
            ]
          },
          "metadata": {
            "tags": [],
            "needs_background": "light"
          }
        }
      ]
    },
    {
      "cell_type": "markdown",
      "metadata": {
        "id": "u-ff35DgyS_c"
      },
      "source": [
        "# GMM with 1 cluster per class\n"
      ]
    },
    {
      "cell_type": "code",
      "metadata": {
        "colab": {
          "base_uri": "https://localhost:8080/"
        },
        "id": "c_Ge9M9Ax_3n",
        "outputId": "e14b155d-5324-48fe-bcbe-069f0fe9483e"
      },
      "source": [
        "from sklearn.mixture import GaussianMixture as GMM \n",
        "import time\n",
        "num_cluster_per_num = 1\n",
        "gmm = GMM(n_components=num_cluster_per_num*10,) #random_state=0,max_iter=300)\n",
        "time_before_fitting = time.time()\n",
        "gmm.fit(train_dct)\n",
        "time_after_fitting = time.time()\n",
        "print(\"Processing time is :\",time_after_fitting-time_before_fitting)\n",
        "time_before_test = time.time()\n",
        "Y_pred = gmm.predict(test_dct)\n",
        "time_after_test = time.time()\n",
        "print(\"Processing time is :\",time_after_test-time_before_test)"
      ],
      "execution_count": 83,
      "outputs": [
        {
          "output_type": "stream",
          "text": [
            "Processing time is : 19.335511922836304\n",
            "Processing time is : 0.07410120964050293\n"
          ],
          "name": "stdout"
        }
      ]
    },
    {
      "cell_type": "code",
      "metadata": {
        "id": "eGQ_v_IYzbwV"
      },
      "source": [
        "mapped_labels = map_clast(Y_pred,num_cluster_per_num)"
      ],
      "execution_count": 84,
      "outputs": []
    },
    {
      "cell_type": "code",
      "metadata": {
        "id": "FzTiWF690r6O"
      },
      "source": [
        "new_outputs = []\n",
        "for j in range(0,10):\n",
        "  for i in range(j*200,(j+1)*200):\n",
        "    if np.isin(Y_pred[i],mapped_labels[j]):\n",
        "      new_outputs.append(j)\n",
        "    else: \n",
        "      new_outputs.append(200)\n",
        "new_outputs = np.array(new_outputs).reshape(1,2000)"
      ],
      "execution_count": 85,
      "outputs": []
    },
    {
      "cell_type": "code",
      "metadata": {
        "colab": {
          "base_uri": "https://localhost:8080/"
        },
        "id": "Nb_D00w70tKO",
        "outputId": "6f183f3d-a024-4061-9676-7ed838f0f51a"
      },
      "source": [
        "accuracy_score(new_outputs[0],test_labels[0])"
      ],
      "execution_count": 86,
      "outputs": [
        {
          "output_type": "execute_result",
          "data": {
            "text/plain": [
              "0.5425"
            ]
          },
          "metadata": {
            "tags": []
          },
          "execution_count": 86
        }
      ]
    },
    {
      "cell_type": "markdown",
      "metadata": {
        "id": "o3E_voft1Gd4"
      },
      "source": [
        "# GMM with 4 cluster per class"
      ]
    },
    {
      "cell_type": "code",
      "metadata": {
        "colab": {
          "base_uri": "https://localhost:8080/"
        },
        "id": "twrUqiSd07uN",
        "outputId": "0df9a27b-9144-46b2-8a66-bdf2d9661535"
      },
      "source": [
        "num_cluster_per_num = 4\n",
        "gmm = GMM(n_components=num_cluster_per_num*10,) #random_state=0,max_iter=300)\n",
        "time_before_fitting = time.time()\n",
        "gmm.fit(train_dct)\n",
        "time_after_fitting = time.time()\n",
        "print(\"Processing time is :\",time_after_fitting-time_before_fitting)\n",
        "time_before_test = time.time()\n",
        "Y_pred = gmm.predict(test_dct)\n",
        "time_after_test = time.time()\n",
        "print(\"Processing time is :\",time_after_test-time_before_test)"
      ],
      "execution_count": 134,
      "outputs": [
        {
          "output_type": "stream",
          "text": [
            "Processing time is : 31.978002071380615\n",
            "Processing time is : 0.29430198669433594\n"
          ],
          "name": "stdout"
        }
      ]
    },
    {
      "cell_type": "code",
      "metadata": {
        "id": "efT7SvwG1NYz"
      },
      "source": [
        "mapped_labels = map_clast(Y_pred,num_cluster_per_num)"
      ],
      "execution_count": 135,
      "outputs": []
    },
    {
      "cell_type": "code",
      "metadata": {
        "id": "R_NkoNMz1SBu"
      },
      "source": [
        "new_outputs = []\n",
        "for j in range(0,10):\n",
        "  for i in range(j*200,(j+1)*200):\n",
        "    if np.isin(Y_pred[i],mapped_labels[j]):\n",
        "      new_outputs.append(j)\n",
        "    else: \n",
        "      new_outputs.append(np.random.choice(range(0,10),1)[0])\n",
        "new_outputs = np.array(new_outputs).reshape(1,2000)"
      ],
      "execution_count": 146,
      "outputs": []
    },
    {
      "cell_type": "code",
      "metadata": {
        "colab": {
          "base_uri": "https://localhost:8080/"
        },
        "id": "wA4nvd1w1SPQ",
        "outputId": "945d4edd-32df-46cd-ffd1-473f37d31bfd"
      },
      "source": [
        "from sklearn.metrics import accuracy_score\n",
        "accuracy_score(new_outputs[0],test_labels[0])"
      ],
      "execution_count": 147,
      "outputs": [
        {
          "output_type": "execute_result",
          "data": {
            "text/plain": [
              "0.8565"
            ]
          },
          "metadata": {
            "tags": []
          },
          "execution_count": 147
        }
      ]
    },
    {
      "cell_type": "code",
      "metadata": {
        "colab": {
          "base_uri": "https://localhost:8080/",
          "height": 445
        },
        "id": "E62eyV35U0pc",
        "outputId": "dd8f3e59-238b-4d5d-988c-e538b1ac882c"
      },
      "source": [
        "from sklearn.metrics import confusion_matrix\n",
        "import matplotlib.pyplot as plt\n",
        "import seaborn as sn\n",
        "df_cm = pd.DataFrame(confusion_matrix(test_labels[0],out_puts))\n",
        "plt.figure(figsize = (10,7))\n",
        "sn.heatmap(df_cm, annot=True,cmap='Blues', fmt='g')"
      ],
      "execution_count": 148,
      "outputs": [
        {
          "output_type": "execute_result",
          "data": {
            "text/plain": [
              "<matplotlib.axes._subplots.AxesSubplot at 0x7f383cf32950>"
            ]
          },
          "metadata": {
            "tags": []
          },
          "execution_count": 148
        },
        {
          "output_type": "display_data",
          "data": {
            "image/png": "[encoded data removed]",
            "text/plain": [
              "<Figure size 720x504 with 2 Axes>"
            ]
          },
          "metadata": {
            "tags": [],
            "needs_background": "light"
          }
        }
      ]
    },
    {
      "cell_type": "markdown",
      "metadata": {
        "id": "IoQZdoKn1xuV"
      },
      "source": [
        "# GMM with 16 cluster per class"
      ]
    },
    {
      "cell_type": "code",
      "metadata": {
        "colab": {
          "base_uri": "https://localhost:8080/"
        },
        "id": "V-GrVCDj1T02",
        "outputId": "1afb04b0-a3d6-4b7c-d016-506ee0b22cd2"
      },
      "source": [
        "num_cluster_per_num = 16\n",
        "gmm = GMM(n_components=num_cluster_per_num*10,) #random_state=0,max_iter=300)\n",
        "time_before_fitting = time.time()\n",
        "gmm.fit(train_dct)\n",
        "time_after_fitting = time.time()\n",
        "print(\"Processing time is :\",time_after_fitting-time_before_fitting)\n",
        "time_before_test = time.time()\n",
        "Y_pred = gmm.predict(test_dct)\n",
        "time_after_test = time.time()\n",
        "print(\"Processing time is :\",time_after_test-time_before_test)"
      ],
      "execution_count": 125,
      "outputs": [
        {
          "output_type": "stream",
          "text": [
            "Processing time is : 37.676072120666504\n",
            "Processing time is : 1.128004789352417\n"
          ],
          "name": "stdout"
        }
      ]
    },
    {
      "cell_type": "code",
      "metadata": {
        "id": "ovNiyXYB2CsW"
      },
      "source": [
        "mapped_labels = map_clast(Y_pred,num_cluster_per_num)"
      ],
      "execution_count": 126,
      "outputs": []
    },
    {
      "cell_type": "code",
      "metadata": {
        "id": "jOkbo1R02F2H"
      },
      "source": [
        "new_outputs = []\n",
        "for j in range(0,10):\n",
        "  for i in range(j*200,(j+1)*200):\n",
        "    if np.isin(Y_pred[i],mapped_labels[j]):\n",
        "      new_outputs.append(j)\n",
        "    else: \n",
        "      #new_outputs.append(200)\n",
        "      new_outputs.append(np.random.choice(range(0,j)+range(j,10),1))\n",
        "new_outputs = np.array(new_outputs).reshape(1,2000)"
      ],
      "execution_count": 127,
      "outputs": []
    },
    {
      "cell_type": "code",
      "metadata": {
        "colab": {
          "base_uri": "https://localhost:8080/"
        },
        "id": "bQoPPz6f2J9L",
        "outputId": "b317e857-e573-46b6-8c88-b30a98491f39"
      },
      "source": [
        "accuracy_score(new_outputs[0],test_labels[0])"
      ],
      "execution_count": 128,
      "outputs": [
        {
          "output_type": "execute_result",
          "data": {
            "text/plain": [
              "1.0"
            ]
          },
          "metadata": {
            "tags": []
          },
          "execution_count": 128
        }
      ]
    },
    {
      "cell_type": "code",
      "metadata": {
        "id": "fvFSfL9BK-uy"
      },
      "source": [
        "print('accuracy_score = ',accuracy_score(out_puts,test_labels[0]))\n"
      ],
      "execution_count": null,
      "outputs": []
    },
    {
      "cell_type": "code",
      "metadata": {
        "id": "eWh5yFwNK-uy"
      },
      "source": [
        "from sklearn.metrics import confusion_matrix\n",
        "import matplotlib.pyplot as plt\n",
        "import seaborn as sn\n",
        "df_cm = pd.DataFrame(confusion_matrix(test_labels[0],out_puts))\n",
        "plt.figure(figsize = (10,7))\n",
        "sn.heatmap(df_cm, annot=True,cmap='Blues', fmt='g')"
      ],
      "execution_count": null,
      "outputs": []
    },
    {
      "cell_type": "markdown",
      "metadata": {
        "id": "FNlDFNSJ9Lk-"
      },
      "source": [
        "# SVM"
      ]
    },
    {
      "cell_type": "code",
      "metadata": {
        "id": "qZunoK9j20XV"
      },
      "source": [
        "from sklearn.pipeline import make_pipeline\n",
        "from sklearn.preprocessing import StandardScaler\n",
        "from sklearn.svm import SVC\n",
        "from sklearn.utils import shuffle"
      ],
      "execution_count": 149,
      "outputs": []
    },
    {
      "cell_type": "code",
      "metadata": {
        "colab": {
          "base_uri": "https://localhost:8080/"
        },
        "id": "l24pkLYC9QPQ",
        "outputId": "cebfa0ee-cf25-4a3e-9fa4-6a9a900dc159"
      },
      "source": [
        "clf = SVC(C=.1,kernel = 'linear')\n",
        "x , y = shuffle(train_dct,train_labels.reshape(10000,))\n",
        "time_before_fitting = time.time()\n",
        "clf.fit(x, y.reshape(10000,))\n",
        "time_after_fitting = time.time()\n",
        "print(\"Processing time is :\",time_after_fitting-time_before_fitting)\n",
        "time_before_test = time.time()\n",
        "Y_pred = clf.predict(test_dct)\n",
        "time_after_test = time.time()\n",
        "print(\"Processing time is :\",time_after_test-time_before_test)"
      ],
      "execution_count": 150,
      "outputs": [
        {
          "output_type": "stream",
          "text": [
            "Processing time is : 79.96160054206848\n",
            "Processing time is : 1.0277454853057861\n"
          ],
          "name": "stdout"
        }
      ]
    },
    {
      "cell_type": "code",
      "metadata": {
        "colab": {
          "base_uri": "https://localhost:8080/"
        },
        "id": "D4qyl96j-aJI",
        "outputId": "dc069688-037a-4023-ccfa-fe7992e7c631"
      },
      "source": [
        "accuracy_score(Y_pred,test_labels[0])"
      ],
      "execution_count": 151,
      "outputs": [
        {
          "output_type": "execute_result",
          "data": {
            "text/plain": [
              "0.931"
            ]
          },
          "metadata": {
            "tags": []
          },
          "execution_count": 151
        }
      ]
    },
    {
      "cell_type": "code",
      "metadata": {
        "colab": {
          "base_uri": "https://localhost:8080/"
        },
        "id": "7d9bvvlg-eDJ",
        "outputId": "b9fb8a00-1dd4-4689-e7bd-68d9e0cd3879"
      },
      "source": [
        "clf = SVC(kernel = 'poly',degree=3)\n",
        "\n",
        "time_before_fitting = time.time()\n",
        "clf.fit(train_dct, train_labels.reshape(10000,))\n",
        "time_after_fitting = time.time()\n",
        "print(\"Processing time is :\",time_after_fitting-time_before_fitting)\n",
        "time_before_test = time.time()\n",
        "Y_pred = clf.predict(test_dct)\n",
        "time_after_test = time.time()\n",
        "print(\"Processing time is :\",time_after_test-time_before_test)"
      ],
      "execution_count": 157,
      "outputs": [
        {
          "output_type": "stream",
          "text": [
            "Processing time is : 5.232467889785767\n",
            "Processing time is : 1.5281012058258057\n"
          ],
          "name": "stdout"
        }
      ]
    },
    {
      "cell_type": "code",
      "metadata": {
        "colab": {
          "base_uri": "https://localhost:8080/"
        },
        "id": "lBaoztFQ-xGA",
        "outputId": "7b442086-60a5-42d4-9452-2856bbb25a75"
      },
      "source": [
        "accuracy_score(Y_pred,test_labels[0])"
      ],
      "execution_count": 158,
      "outputs": [
        {
          "output_type": "execute_result",
          "data": {
            "text/plain": [
              "0.974"
            ]
          },
          "metadata": {
            "tags": []
          },
          "execution_count": 158
        }
      ]
    },
    {
      "cell_type": "code",
      "metadata": {
        "colab": {
          "base_uri": "https://localhost:8080/",
          "height": 445
        },
        "id": "WaCMvjwMLI9l",
        "outputId": "cdb80c2c-e5ad-4693-fc4a-d9ca4f3a9998"
      },
      "source": [
        "df_cm = pd.DataFrame(confusion_matrix(test_labels[0],Y_pred))\n",
        "plt.figure(figsize = (10,7))\n",
        "sn.heatmap(df_cm, annot=True,cmap='Blues', fmt='g')"
      ],
      "execution_count": 159,
      "outputs": [
        {
          "output_type": "execute_result",
          "data": {
            "text/plain": [
              "<matplotlib.axes._subplots.AxesSubplot at 0x7f383abe5750>"
            ]
          },
          "metadata": {
            "tags": []
          },
          "execution_count": 159
        },
        {
          "output_type": "display_data",
          "data": {
            "image/png": "[encoded data removed]",
            "text/plain": [
              "<Figure size 720x504 with 2 Axes>"
            ]
          },
          "metadata": {
            "tags": [],
            "needs_background": "light"
          }
        }
      ]
    },
    {
      "cell_type": "code",
      "metadata": {
        "colab": {
          "base_uri": "https://localhost:8080/"
        },
        "id": "VX-JIre5Cd1k",
        "outputId": "f4f395a0-2742-412d-9033-497a361f0c2f"
      },
      "source": [
        "clf = SVC(kernel = 'rbf',degree=3)\n",
        "\n",
        "time_before_fitting = time.time()\n",
        "clf.fit(train_dct, train_labels.reshape(10000,))\n",
        "time_after_fitting = time.time()\n",
        "print(\"Processing time is :\",time_after_fitting-time_before_fitting)\n",
        "time_before_test = time.time()\n",
        "Y_pred = clf.predict(test_dct)\n",
        "time_after_test = time.time()\n",
        "print(\"Processing time is :\",time_after_test-time_before_test)"
      ],
      "execution_count": 154,
      "outputs": [
        {
          "output_type": "stream",
          "text": [
            "Processing time is : 5.974727392196655\n",
            "Processing time is : 1.9890506267547607\n"
          ],
          "name": "stdout"
        }
      ]
    },
    {
      "cell_type": "code",
      "metadata": {
        "colab": {
          "base_uri": "https://localhost:8080/"
        },
        "id": "_yMZwijvCm80",
        "outputId": "c1b9944d-2c87-4e78-acee-be43a43610d6"
      },
      "source": [
        "accuracy_score(Y_pred,test_labels[0])"
      ],
      "execution_count": 155,
      "outputs": [
        {
          "output_type": "execute_result",
          "data": {
            "text/plain": [
              "0.973"
            ]
          },
          "metadata": {
            "tags": []
          },
          "execution_count": 155
        }
      ]
    },
    {
      "cell_type": "code",
      "metadata": {
        "id": "B4IkZ1D9VA-8"
      },
      "source": [
        ""
      ],
      "execution_count": null,
      "outputs": []
    }
  ]
}